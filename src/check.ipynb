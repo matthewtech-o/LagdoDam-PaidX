{
 "cells": [
  {
   "cell_type": "code",
   "execution_count": 1,
   "metadata": {},
   "outputs": [],
   "source": [
    "import pandas as pd"
   ]
  },
  {
   "cell_type": "code",
   "execution_count": null,
   "metadata": {},
   "outputs": [
    {
     "data": {
      "text/html": [
       "<div>\n",
       "<style scoped>\n",
       "    .dataframe tbody tr th:only-of-type {\n",
       "        vertical-align: middle;\n",
       "    }\n",
       "\n",
       "    .dataframe tbody tr th {\n",
       "        vertical-align: top;\n",
       "    }\n",
       "\n",
       "    .dataframe thead th {\n",
       "        text-align: right;\n",
       "    }\n",
       "</style>\n",
       "<table border=\"1\" class=\"dataframe\">\n",
       "  <thead>\n",
       "    <tr style=\"text-align: right;\">\n",
       "      <th></th>\n",
       "      <th>precipitation_mm</th>\n",
       "      <th>dam_discharge_(m_/s)</th>\n",
       "      <th>flood_severity</th>\n",
       "      <th>affected_regions</th>\n",
       "      <th>Year_x</th>\n",
       "      <th>State</th>\n",
       "      <th>GDP Loss (Billion)</th>\n",
       "      <th>Agricultural Damage (Hectares)</th>\n",
       "      <th>Infrastructure Damage (Billion)</th>\n",
       "      <th>Food Security Impact (%)</th>\n",
       "      <th>...</th>\n",
       "      <th>rolling_water_level_mean</th>\n",
       "      <th>rolling_water_level_std</th>\n",
       "      <th>lag_precipitation</th>\n",
       "      <th>lag_discharge</th>\n",
       "      <th>lag_water_level</th>\n",
       "      <th>is_rainy_season</th>\n",
       "      <th>month_sin</th>\n",
       "      <th>month_cos</th>\n",
       "      <th>precipitation_discharge_interaction</th>\n",
       "      <th>precipitation_water_level_interaction</th>\n",
       "    </tr>\n",
       "  </thead>\n",
       "  <tbody>\n",
       "    <tr>\n",
       "      <th>0</th>\n",
       "      <td>0.0</td>\n",
       "      <td>1226.22</td>\n",
       "      <td>No flood</td>\n",
       "      <td>Benue, Kogi</td>\n",
       "      <td>2022.0</td>\n",
       "      <td>Bayelsa</td>\n",
       "      <td>150.0</td>\n",
       "      <td>50000.0</td>\n",
       "      <td>20.0</td>\n",
       "      <td>99.0</td>\n",
       "      <td>...</td>\n",
       "      <td>211.813</td>\n",
       "      <td>0.0</td>\n",
       "      <td>0.0</td>\n",
       "      <td>1281.48</td>\n",
       "      <td>211.813</td>\n",
       "      <td>0</td>\n",
       "      <td>0.5</td>\n",
       "      <td>0.866025</td>\n",
       "      <td>0.0</td>\n",
       "      <td>0.0</td>\n",
       "    </tr>\n",
       "    <tr>\n",
       "      <th>1</th>\n",
       "      <td>0.0</td>\n",
       "      <td>1710.42</td>\n",
       "      <td>No flood</td>\n",
       "      <td>Benue, Kogi</td>\n",
       "      <td>2022.0</td>\n",
       "      <td>Bayelsa</td>\n",
       "      <td>150.0</td>\n",
       "      <td>50000.0</td>\n",
       "      <td>20.0</td>\n",
       "      <td>99.0</td>\n",
       "      <td>...</td>\n",
       "      <td>211.813</td>\n",
       "      <td>0.0</td>\n",
       "      <td>0.0</td>\n",
       "      <td>1226.22</td>\n",
       "      <td>211.813</td>\n",
       "      <td>0</td>\n",
       "      <td>0.5</td>\n",
       "      <td>0.866025</td>\n",
       "      <td>0.0</td>\n",
       "      <td>0.0</td>\n",
       "    </tr>\n",
       "    <tr>\n",
       "      <th>2</th>\n",
       "      <td>0.0</td>\n",
       "      <td>1753.58</td>\n",
       "      <td>No flood</td>\n",
       "      <td>Benue, Kogi</td>\n",
       "      <td>2022.0</td>\n",
       "      <td>Bayelsa</td>\n",
       "      <td>150.0</td>\n",
       "      <td>50000.0</td>\n",
       "      <td>20.0</td>\n",
       "      <td>99.0</td>\n",
       "      <td>...</td>\n",
       "      <td>211.813</td>\n",
       "      <td>0.0</td>\n",
       "      <td>0.0</td>\n",
       "      <td>1710.42</td>\n",
       "      <td>211.813</td>\n",
       "      <td>0</td>\n",
       "      <td>0.5</td>\n",
       "      <td>0.866025</td>\n",
       "      <td>0.0</td>\n",
       "      <td>0.0</td>\n",
       "    </tr>\n",
       "    <tr>\n",
       "      <th>3</th>\n",
       "      <td>0.0</td>\n",
       "      <td>1681.13</td>\n",
       "      <td>No flood</td>\n",
       "      <td>Benue, Kogi</td>\n",
       "      <td>2022.0</td>\n",
       "      <td>Bayelsa</td>\n",
       "      <td>150.0</td>\n",
       "      <td>50000.0</td>\n",
       "      <td>20.0</td>\n",
       "      <td>99.0</td>\n",
       "      <td>...</td>\n",
       "      <td>211.813</td>\n",
       "      <td>0.0</td>\n",
       "      <td>0.0</td>\n",
       "      <td>1753.58</td>\n",
       "      <td>211.813</td>\n",
       "      <td>0</td>\n",
       "      <td>0.5</td>\n",
       "      <td>0.866025</td>\n",
       "      <td>0.0</td>\n",
       "      <td>0.0</td>\n",
       "    </tr>\n",
       "    <tr>\n",
       "      <th>4</th>\n",
       "      <td>0.0</td>\n",
       "      <td>1954.60</td>\n",
       "      <td>No flood</td>\n",
       "      <td>Benue, Kogi</td>\n",
       "      <td>2022.0</td>\n",
       "      <td>Bayelsa</td>\n",
       "      <td>150.0</td>\n",
       "      <td>50000.0</td>\n",
       "      <td>20.0</td>\n",
       "      <td>99.0</td>\n",
       "      <td>...</td>\n",
       "      <td>211.813</td>\n",
       "      <td>0.0</td>\n",
       "      <td>0.0</td>\n",
       "      <td>1681.13</td>\n",
       "      <td>211.813</td>\n",
       "      <td>0</td>\n",
       "      <td>0.5</td>\n",
       "      <td>0.866025</td>\n",
       "      <td>0.0</td>\n",
       "      <td>0.0</td>\n",
       "    </tr>\n",
       "  </tbody>\n",
       "</table>\n",
       "<p>5 rows × 43 columns</p>\n",
       "</div>"
      ],
      "text/plain": [
       "   precipitation_mm  dam_discharge_(m_/s) flood_severity affected_regions  \\\n",
       "0               0.0               1226.22       No flood      Benue, Kogi   \n",
       "1               0.0               1710.42       No flood      Benue, Kogi   \n",
       "2               0.0               1753.58       No flood      Benue, Kogi   \n",
       "3               0.0               1681.13       No flood      Benue, Kogi   \n",
       "4               0.0               1954.60       No flood      Benue, Kogi   \n",
       "\n",
       "   Year_x    State  GDP Loss (Billion)  Agricultural Damage (Hectares)  \\\n",
       "0  2022.0  Bayelsa               150.0                         50000.0   \n",
       "1  2022.0  Bayelsa               150.0                         50000.0   \n",
       "2  2022.0  Bayelsa               150.0                         50000.0   \n",
       "3  2022.0  Bayelsa               150.0                         50000.0   \n",
       "4  2022.0  Bayelsa               150.0                         50000.0   \n",
       "\n",
       "   Infrastructure Damage (Billion)  Food Security Impact (%)  ...  \\\n",
       "0                             20.0                      99.0  ...   \n",
       "1                             20.0                      99.0  ...   \n",
       "2                             20.0                      99.0  ...   \n",
       "3                             20.0                      99.0  ...   \n",
       "4                             20.0                      99.0  ...   \n",
       "\n",
       "   rolling_water_level_mean rolling_water_level_std  lag_precipitation  \\\n",
       "0                   211.813                     0.0                0.0   \n",
       "1                   211.813                     0.0                0.0   \n",
       "2                   211.813                     0.0                0.0   \n",
       "3                   211.813                     0.0                0.0   \n",
       "4                   211.813                     0.0                0.0   \n",
       "\n",
       "  lag_discharge lag_water_level  is_rainy_season  month_sin  month_cos  \\\n",
       "0       1281.48         211.813                0        0.5   0.866025   \n",
       "1       1226.22         211.813                0        0.5   0.866025   \n",
       "2       1710.42         211.813                0        0.5   0.866025   \n",
       "3       1753.58         211.813                0        0.5   0.866025   \n",
       "4       1681.13         211.813                0        0.5   0.866025   \n",
       "\n",
       "   precipitation_discharge_interaction  precipitation_water_level_interaction  \n",
       "0                                  0.0                                    0.0  \n",
       "1                                  0.0                                    0.0  \n",
       "2                                  0.0                                    0.0  \n",
       "3                                  0.0                                    0.0  \n",
       "4                                  0.0                                    0.0  \n",
       "\n",
       "[5 rows x 43 columns]"
      ]
     },
     "execution_count": 4,
     "metadata": {},
     "output_type": "execute_result"
    }
   ],
   "source": [
    "df = pd.read_csv(r\"C:\\Users\\Industry Expert\\Downloads\\PaidXdataset-20241129T083846Z-001\\LagdoDam-PaidX\\data\\New\\engineered_data.csv\")\n",
    "df.head()"
   ]
  },
  {
   "cell_type": "code",
   "execution_count": null,
   "metadata": {},
   "outputs": [
    {
     "name": "stdout",
     "output_type": "stream",
     "text": [
      "Categorical features found: ['flood_severity', 'affected_regions', 'State', 'Month(s) of Occurrence', 'Flood Severity', 'States Affected', 'Dasin Hausa Dam Status']\n"
     ]
    }
   ],
   "source": [
    "def get_categorical_features(data):\n",
    "    \"\"\"\n",
    "    Identify categorical features in the dataset.\n",
    "    \n",
    "    Parameters:\n",
    "    - data (pd.DataFrame): The input dataset.\n",
    "    \n",
    "    Returns:\n",
    "    - List of column names that are categorical.\n",
    "    \"\"\"\n",
    "    # Select columns with 'object' or 'category' dtype\n",
    "    categorical_features = data.select_dtypes(include=['object', 'category']).columns.tolist()\n",
    "    \n",
    "    print(f\"Categorical features found: {categorical_features}\")\n",
    "    return categorical_features\n",
    "\n",
    "\n",
    "categorical_features = get_categorical_features(df)\n"
   ]
  },
  {
   "cell_type": "code",
   "execution_count": 6,
   "metadata": {},
   "outputs": [
    {
     "data": {
      "text/plain": [
       "array(['No flood', 'Moderate', 'Severe', 'Minor'], dtype=object)"
      ]
     },
     "execution_count": 6,
     "metadata": {},
     "output_type": "execute_result"
    }
   ],
   "source": [
    "df['flood_severity'].unique()"
   ]
  },
  {
   "cell_type": "code",
   "execution_count": 7,
   "metadata": {},
   "outputs": [
    {
     "data": {
      "text/plain": [
       "array(['Benue, Kogi', 'Benue, Taraba', 'Kogi, Adamawa', 'Benue, Delta',\n",
       "       'Adamawa, Taraba', 'Kogi, Benue', 'Benue, Cross River',\n",
       "       'Kogi, Delta', 'Adamawa, Benue', 'Taraba, Kogi',\n",
       "       'Cross River, Benue', 'Delta, Benue', 'Kogi, Taraba',\n",
       "       'Benue, Adamawa', 'Kogi, Cross River', 'Adamawa, Kogi',\n",
       "       'Taraba, Delta', 'Benue, Kogi, Anambra', 'Kogi, Bayelsa'],\n",
       "      dtype=object)"
      ]
     },
     "execution_count": 7,
     "metadata": {},
     "output_type": "execute_result"
    }
   ],
   "source": [
    "df['affected_regions'].unique()"
   ]
  },
  {
   "cell_type": "code",
   "execution_count": 8,
   "metadata": {},
   "outputs": [
    {
     "data": {
      "text/plain": [
       "array(['Bayelsa', 'Jigawa', 'Nasarawa', 'Kogi', 'Delta', 'Anambra',\n",
       "       'Borno', 'Adamawa', 'Lagos', 'Ondo'], dtype=object)"
      ]
     },
     "execution_count": 8,
     "metadata": {},
     "output_type": "execute_result"
    }
   ],
   "source": [
    "df['State'].unique()"
   ]
  },
  {
   "cell_type": "code",
   "execution_count": 9,
   "metadata": {},
   "outputs": [
    {
     "data": {
      "text/plain": [
       "array(['September', 'August', 'July', 'October'], dtype=object)"
      ]
     },
     "execution_count": 9,
     "metadata": {},
     "output_type": "execute_result"
    }
   ],
   "source": [
    "df['Month(s) of Occurrence'].unique()"
   ]
  },
  {
   "cell_type": "code",
   "execution_count": 10,
   "metadata": {},
   "outputs": [
    {
     "data": {
      "text/plain": [
       "array(['Moderate', 'Severe', 'Minor'], dtype=object)"
      ]
     },
     "execution_count": 10,
     "metadata": {},
     "output_type": "execute_result"
    }
   ],
   "source": [
    "df['Flood Severity'].unique()"
   ]
  },
  {
   "cell_type": "code",
   "execution_count": 14,
   "metadata": {},
   "outputs": [
    {
     "data": {
      "text/plain": [
       "array(['Benue, Kogi', 'Benue, Taraba', 'Kogi, Adamawa', 'Benue, Delta',\n",
       "       'Adamawa, Taraba', 'Kogi, Benue', 'Benue, Cross River',\n",
       "       'Kogi, Delta', 'Adamawa, Benue', 'Taraba, Kogi',\n",
       "       'Cross River, Benue', 'Delta, Benue', 'Kogi, Taraba',\n",
       "       'Benue, Adamawa', 'Kogi, Cross River', 'Adamawa, Kogi',\n",
       "       'Taraba, Delta', 'Benue, Kogi, Anambra', 'Kogi, Bayelsa'],\n",
       "      dtype=object)"
      ]
     },
     "execution_count": 14,
     "metadata": {},
     "output_type": "execute_result"
    }
   ],
   "source": [
    "df['States Affected'].unique()"
   ]
  },
  {
   "cell_type": "code",
   "execution_count": 12,
   "metadata": {},
   "outputs": [
    {
     "data": {
      "text/plain": [
       "array(['Not started', 'Delayed', 'Construction Started'], dtype=object)"
      ]
     },
     "execution_count": 12,
     "metadata": {},
     "output_type": "execute_result"
    }
   ],
   "source": [
    "df['Dasin Hausa Dam Status'].unique()"
   ]
  },
  {
   "cell_type": "code",
   "execution_count": null,
   "metadata": {},
   "outputs": [],
   "source": []
  }
 ],
 "metadata": {
  "kernelspec": {
   "display_name": "Python 3",
   "language": "python",
   "name": "python3"
  },
  "language_info": {
   "codemirror_mode": {
    "name": "ipython",
    "version": 3
   },
   "file_extension": ".py",
   "mimetype": "text/x-python",
   "name": "python",
   "nbconvert_exporter": "python",
   "pygments_lexer": "ipython3",
   "version": "3.12.4"
  }
 },
 "nbformat": 4,
 "nbformat_minor": 2
}
